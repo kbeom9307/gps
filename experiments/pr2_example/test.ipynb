{
 "cells": [
  {
   "cell_type": "code",
   "execution_count": 2,
   "metadata": {},
   "outputs": [],
   "source": [
    "import numpy as np\n",
    "\n",
    "a = np.load(\"target.npz\")"
   ]
  },
  {
   "cell_type": "code",
   "execution_count": 10,
   "metadata": {},
   "outputs": [
    {
     "data": {
      "text/plain": [
       "numpy.lib.npyio.NpzFile"
      ]
     },
     "execution_count": 10,
     "metadata": {},
     "output_type": "execute_result"
    }
   ],
   "source": [
    "type(a)"
   ]
  },
  {
   "cell_type": "code",
   "execution_count": 11,
   "metadata": {},
   "outputs": [
    {
     "data": {
      "text/plain": [
       "array([[0.8978357 , 0.21710517, 0.29041286]])"
      ]
     },
     "execution_count": 11,
     "metadata": {},
     "output_type": "execute_result"
    }
   ],
   "source": [
    "a[\"trial_arm_0_initial_ee_pos\"]"
   ]
  },
  {
   "cell_type": "code",
   "execution_count": 5,
   "metadata": {},
   "outputs": [],
   "source": [
    "\"\"\" Hyperparameters for PR2 trajectory optimization experiment. \"\"\"\n",
    "from __future__ import division\n",
    "\n",
    "from datetime import datetime\n",
    "import os.path\n",
    "import numpy as np"
   ]
  },
  {
   "cell_type": "code",
   "execution_count": 6,
   "metadata": {},
   "outputs": [
    {
     "ename": "ValueError",
     "evalue": "Unknown projection '3d'",
     "output_type": "error",
     "traceback": [
      "\u001b[0;31m---------------------------------------------------------------------------\u001b[0m",
      "\u001b[0;31mValueError\u001b[0m                                Traceback (most recent call last)",
      "\u001b[0;32m<ipython-input-6-ce42fb7c132b>\u001b[0m in \u001b[0;36m<module>\u001b[0;34m()\u001b[0m\n\u001b[1;32m      3\u001b[0m \u001b[0;34m\u001b[0m\u001b[0m\n\u001b[1;32m      4\u001b[0m \u001b[0mfig\u001b[0m \u001b[0;34m=\u001b[0m \u001b[0mplt\u001b[0m\u001b[0;34m.\u001b[0m\u001b[0mfigure\u001b[0m\u001b[0;34m(\u001b[0m\u001b[0;34m)\u001b[0m\u001b[0;34m\u001b[0m\u001b[0m\n\u001b[0;32m----> 5\u001b[0;31m \u001b[0max\u001b[0m \u001b[0;34m=\u001b[0m \u001b[0mfig\u001b[0m\u001b[0;34m.\u001b[0m\u001b[0mgca\u001b[0m\u001b[0;34m(\u001b[0m\u001b[0mprojection\u001b[0m \u001b[0;34m=\u001b[0m \u001b[0;34m'3d'\u001b[0m\u001b[0;34m)\u001b[0m\u001b[0;34m\u001b[0m\u001b[0m\n\u001b[0m\u001b[1;32m      6\u001b[0m \u001b[0;34m\u001b[0m\u001b[0m\n\u001b[1;32m      7\u001b[0m EE_POINTS = np.array([[0.02, -0.025, 0.05], [0.02, -0.025, -0.05],\n",
      "\u001b[0;32m/usr/local/lib/python2.7/dist-packages/matplotlib/figure.pyc\u001b[0m in \u001b[0;36mgca\u001b[0;34m(self, **kwargs)\u001b[0m\n\u001b[1;32m   1842\u001b[0m \u001b[0;34m\u001b[0m\u001b[0m\n\u001b[1;32m   1843\u001b[0m         \u001b[0;31m# no axes found, so create one which spans the figure\u001b[0m\u001b[0;34m\u001b[0m\u001b[0;34m\u001b[0m\u001b[0m\n\u001b[0;32m-> 1844\u001b[0;31m         \u001b[0;32mreturn\u001b[0m \u001b[0mself\u001b[0m\u001b[0;34m.\u001b[0m\u001b[0madd_subplot\u001b[0m\u001b[0;34m(\u001b[0m\u001b[0;36m1\u001b[0m\u001b[0;34m,\u001b[0m \u001b[0;36m1\u001b[0m\u001b[0;34m,\u001b[0m \u001b[0;36m1\u001b[0m\u001b[0;34m,\u001b[0m \u001b[0;34m**\u001b[0m\u001b[0mkwargs\u001b[0m\u001b[0;34m)\u001b[0m\u001b[0;34m\u001b[0m\u001b[0m\n\u001b[0m\u001b[1;32m   1845\u001b[0m \u001b[0;34m\u001b[0m\u001b[0m\n\u001b[1;32m   1846\u001b[0m     \u001b[0;32mdef\u001b[0m \u001b[0msca\u001b[0m\u001b[0;34m(\u001b[0m\u001b[0mself\u001b[0m\u001b[0;34m,\u001b[0m \u001b[0ma\u001b[0m\u001b[0;34m)\u001b[0m\u001b[0;34m:\u001b[0m\u001b[0;34m\u001b[0m\u001b[0m\n",
      "\u001b[0;32m/usr/local/lib/python2.7/dist-packages/matplotlib/figure.pyc\u001b[0m in \u001b[0;36madd_subplot\u001b[0;34m(self, *args, **kwargs)\u001b[0m\n\u001b[1;32m   1237\u001b[0m         \u001b[0;32melse\u001b[0m\u001b[0;34m:\u001b[0m\u001b[0;34m\u001b[0m\u001b[0m\n\u001b[1;32m   1238\u001b[0m             projection_class, kwargs, key = process_projection_requirements(\n\u001b[0;32m-> 1239\u001b[0;31m                 self, *args, **kwargs)\n\u001b[0m\u001b[1;32m   1240\u001b[0m \u001b[0;34m\u001b[0m\u001b[0m\n\u001b[1;32m   1241\u001b[0m             \u001b[0;31m# try to find the axes with this key in the stack\u001b[0m\u001b[0;34m\u001b[0m\u001b[0;34m\u001b[0m\u001b[0m\n",
      "\u001b[0;32m/usr/local/lib/python2.7/dist-packages/matplotlib/projections/__init__.pyc\u001b[0m in \u001b[0;36mprocess_projection_requirements\u001b[0;34m(figure, *args, **kwargs)\u001b[0m\n\u001b[1;32m     89\u001b[0m \u001b[0;34m\u001b[0m\u001b[0m\n\u001b[1;32m     90\u001b[0m     \u001b[0;32mif\u001b[0m \u001b[0misinstance\u001b[0m\u001b[0;34m(\u001b[0m\u001b[0mprojection\u001b[0m\u001b[0;34m,\u001b[0m \u001b[0msix\u001b[0m\u001b[0;34m.\u001b[0m\u001b[0mstring_types\u001b[0m\u001b[0;34m)\u001b[0m \u001b[0;32mor\u001b[0m \u001b[0mprojection\u001b[0m \u001b[0;32mis\u001b[0m \u001b[0mNone\u001b[0m\u001b[0;34m:\u001b[0m\u001b[0;34m\u001b[0m\u001b[0m\n\u001b[0;32m---> 91\u001b[0;31m         \u001b[0mprojection_class\u001b[0m \u001b[0;34m=\u001b[0m \u001b[0mget_projection_class\u001b[0m\u001b[0;34m(\u001b[0m\u001b[0mprojection\u001b[0m\u001b[0;34m)\u001b[0m\u001b[0;34m\u001b[0m\u001b[0m\n\u001b[0m\u001b[1;32m     92\u001b[0m     \u001b[0;32melif\u001b[0m \u001b[0mhasattr\u001b[0m\u001b[0;34m(\u001b[0m\u001b[0mprojection\u001b[0m\u001b[0;34m,\u001b[0m \u001b[0;34m'_as_mpl_axes'\u001b[0m\u001b[0;34m)\u001b[0m\u001b[0;34m:\u001b[0m\u001b[0;34m\u001b[0m\u001b[0m\n\u001b[1;32m     93\u001b[0m         \u001b[0mprojection_class\u001b[0m\u001b[0;34m,\u001b[0m \u001b[0mextra_kwargs\u001b[0m \u001b[0;34m=\u001b[0m \u001b[0mprojection\u001b[0m\u001b[0;34m.\u001b[0m\u001b[0m_as_mpl_axes\u001b[0m\u001b[0;34m(\u001b[0m\u001b[0;34m)\u001b[0m\u001b[0;34m\u001b[0m\u001b[0m\n",
      "\u001b[0;32m/usr/local/lib/python2.7/dist-packages/matplotlib/projections/__init__.pyc\u001b[0m in \u001b[0;36mget_projection_class\u001b[0;34m(projection)\u001b[0m\n\u001b[1;32m     63\u001b[0m         \u001b[0;32mreturn\u001b[0m \u001b[0mprojection_registry\u001b[0m\u001b[0;34m.\u001b[0m\u001b[0mget_projection_class\u001b[0m\u001b[0;34m(\u001b[0m\u001b[0mprojection\u001b[0m\u001b[0;34m)\u001b[0m\u001b[0;34m\u001b[0m\u001b[0m\n\u001b[1;32m     64\u001b[0m     \u001b[0;32mexcept\u001b[0m \u001b[0mKeyError\u001b[0m\u001b[0;34m:\u001b[0m\u001b[0;34m\u001b[0m\u001b[0m\n\u001b[0;32m---> 65\u001b[0;31m         \u001b[0;32mraise\u001b[0m \u001b[0mValueError\u001b[0m\u001b[0;34m(\u001b[0m\u001b[0;34m\"Unknown projection '%s'\"\u001b[0m \u001b[0;34m%\u001b[0m \u001b[0mprojection\u001b[0m\u001b[0;34m)\u001b[0m\u001b[0;34m\u001b[0m\u001b[0m\n\u001b[0m\u001b[1;32m     66\u001b[0m \u001b[0;34m\u001b[0m\u001b[0m\n\u001b[1;32m     67\u001b[0m \u001b[0;34m\u001b[0m\u001b[0m\n",
      "\u001b[0;31mValueError\u001b[0m: Unknown projection '3d'"
     ]
    },
    {
     "data": {
      "text/plain": [
       "<Figure size 432x288 with 0 Axes>"
      ]
     },
     "metadata": {},
     "output_type": "display_data"
    }
   ],
   "source": [
    "import matplotlib.pyplot as plt\n",
    "import numpy as np\n",
    "\n",
    "fig = plt.figure()\n",
    "ax = fig.gca(projection = '3d')\n",
    "\n",
    "EE_POINTS = np.array([[0.02, -0.025, 0.05], [0.02, -0.025, -0.05],\n",
    "                      [0.02, 0.05, 0.0], [0,0,0]])\n",
    "\n",
    "data_x = [EE_POINTS[i][0] for i in range(4) ] \n",
    "data_y = [EE_POINTS[i][1] for i in range(4) ] \n",
    "data_z = [EE_POINTS[i][2] for i in range(4) ] \n",
    "\n",
    "ax.scatter(data_x,data_y,data_z)\n",
    "\n",
    "plt.show"
   ]
  },
  {
   "cell_type": "code",
   "execution_count": 54,
   "metadata": {},
   "outputs": [
    {
     "data": {
      "text/plain": [
       "[0.02, 0.02, 0.02, 0.0]"
      ]
     },
     "execution_count": 54,
     "metadata": {},
     "output_type": "execute_result"
    }
   ],
   "source": [
    "data_x = [EE_POINTS[i][0] for i in range(4) ] \n",
    "data_x"
   ]
  },
  {
   "cell_type": "code",
   "execution_count": 7,
   "metadata": {},
   "outputs": [],
   "source": [
    "from gps import __file__ as gps_filepath\n",
    "from gps.agent.ros.agent_ros import AgentROS\n",
    "from gps.algorithm.algorithm_traj_opt import AlgorithmTrajOpt\n",
    "from gps.algorithm.cost.cost_fk import CostFK\n",
    "from gps.algorithm.cost.cost_action import CostAction\n",
    "from gps.algorithm.cost.cost_sum import CostSum\n",
    "from gps.algorithm.cost.cost_utils import RAMP_LINEAR, RAMP_FINAL_ONLY\n",
    "from gps.algorithm.dynamics.dynamics_lr_prior import DynamicsLRPrior\n",
    "from gps.algorithm.dynamics.dynamics_prior_gmm import DynamicsPriorGMM\n",
    "from gps.algorithm.traj_opt.traj_opt_lqr_python import TrajOptLQRPython\n",
    "from gps.algorithm.policy.lin_gauss_init import init_lqr\n",
    "from gps.gui.target_setup_gui import load_pose_from_npz\n",
    "from gps.proto.gps_pb2 import JOINT_ANGLES, JOINT_VELOCITIES, \\\n",
    "        END_EFFECTOR_POINTS, END_EFFECTOR_POINT_VELOCITIES, ACTION, \\\n",
    "        TRIAL_ARM, AUXILIARY_ARM, JOINT_SPACE\n",
    "from gps.utility.general_utils import get_ee_points\n",
    "from gps.gui.config import generate_experiment_info"
   ]
  },
  {
   "cell_type": "code",
   "execution_count": 8,
   "metadata": {},
   "outputs": [],
   "source": [
    "# ?\n",
    "EE_POINTS = np.array([[0.02, -0.025, 0.05], [0.02, -0.025, -0.05],\n",
    "                      [0.02, 0.05, 0.0]])\n",
    "\n",
    "# sensor dimension \n",
    "SENSOR_DIMS = {\n",
    "    JOINT_ANGLES: 7, \n",
    "    JOINT_VELOCITIES: 7,\n",
    "    END_EFFECTOR_POINTS: 3 * EE_POINTS.shape[0],\n",
    "    END_EFFECTOR_POINT_VELOCITIES: 3 * EE_POINTS.shape[0],\n",
    "    ACTION: 7,\n",
    "} \n",
    "\n",
    "# calibration\n",
    "PR2_GAINS = np.array([3.09, 1.08, 0.393, 0.674, 0.111, 0.152, 0.098])\n",
    "\n",
    "BASE_DIR = '/'.join(str.split(gps_filepath, '/')[:-2])\n",
    "EXP_DIR = BASE_DIR + '/../experiments/pr2_example/'\n",
    "\n",
    "x0s = []\n",
    "ee_tgts = []\n",
    "reset_conditions = []\n",
    "\n",
    "common = {\n",
    "    'experiment_name': 'my_experiment' + '_' + \\\n",
    "            datetime.strftime(datetime.now(), '%m-%d-%y_%H-%M'),\n",
    "    'experiment_dir': EXP_DIR,\n",
    "    'data_files_dir': EXP_DIR + 'data_files/',\n",
    "    'target_filename': EXP_DIR + 'target.npz',\n",
    "    'log_filename': EXP_DIR + 'log.txt',\n",
    "    'conditions': 1,\n",
    "}\n",
    "\n",
    "# TODO(chelsea/zoe) : Move this code to a utility function\n",
    "# Set up each condition.\n",
    "for i in xrange(common['conditions']):\n",
    "\n",
    "    ja_x0, ee_pos_x0, ee_rot_x0 = load_pose_from_npz(\n",
    "        common['target_filename'], 'trial_arm', str(i), 'initial'\n",
    "    )\n",
    "    ja_aux, _, _ = load_pose_from_npz(\n",
    "        common['target_filename'], 'auxiliary_arm', str(i), 'initial'\n",
    "    )\n",
    "    _, ee_pos_tgt, ee_rot_tgt = load_pose_from_npz(\n",
    "        common['target_filename'], 'trial_arm', str(i), 'target'\n",
    "    )\n",
    "\n",
    "    x0 = np.zeros(32)\n",
    "    x0[:7] = ja_x0\n",
    "    x0[14:(14+3*EE_POINTS.shape[0])] = np.ndarray.flatten(\n",
    "        get_ee_points(EE_POINTS, ee_pos_x0, ee_rot_x0).T\n",
    "    )\n",
    "\n",
    "    ee_tgt = np.ndarray.flatten(\n",
    "        get_ee_points(EE_POINTS, ee_pos_tgt, ee_rot_tgt).T\n",
    "    )\n",
    "\n",
    "    aux_x0 = np.zeros(7)\n",
    "    aux_x0[:] = ja_aux\n",
    "\n",
    "    reset_condition = {\n",
    "        TRIAL_ARM: {\n",
    "            'mode': JOINT_SPACE,\n",
    "            'data': x0[0:7],\n",
    "        },\n",
    "        AUXILIARY_ARM: {\n",
    "            'mode': JOINT_SPACE,\n",
    "            'data': aux_x0,\n",
    "        },\n",
    "    }\n",
    "\n",
    "    x0s.append(x0)\n",
    "    ee_tgts.append(ee_tgt)\n",
    "    reset_conditions.append(reset_condition)\n",
    "\n",
    "\n",
    "if not os.path.exists(common['data_files_dir']):\n",
    "    os.makedirs(common['data_files_dir'])\n",
    "\n",
    "agent = {\n",
    "    'type': AgentROS,\n",
    "    'dt': 0.05,\n",
    "    'conditions': common['conditions'],\n",
    "    'T': 100,\n",
    "    'x0': x0s,\n",
    "    'ee_points_tgt': ee_tgts,\n",
    "    'reset_conditions': reset_conditions,\n",
    "    'sensor_dims': SENSOR_DIMS,\n",
    "    'state_include': [JOINT_ANGLES, JOINT_VELOCITIES, END_EFFECTOR_POINTS,\n",
    "                      END_EFFECTOR_POINT_VELOCITIES],\n",
    "    'end_effector_points': EE_POINTS,\n",
    "    'obs_include': [],\n",
    "}\n",
    "\n",
    "algorithm = {\n",
    "    'type': AlgorithmTrajOpt,\n",
    "    'conditions': common['conditions'],\n",
    "    'iterations': 10,\n",
    "}\n",
    "\n",
    "algorithm['init_traj_distr'] = {\n",
    "    'type': init_lqr,\n",
    "    'init_gains':  1.0 / PR2_GAINS,\n",
    "    'init_acc': np.zeros(SENSOR_DIMS[ACTION]),\n",
    "    'init_var': 1.0,\n",
    "    'stiffness': 0.5,\n",
    "    'stiffness_vel': 0.25,\n",
    "    'final_weight': 50,\n",
    "    'dt': agent['dt'],\n",
    "    'T': agent['T'],\n",
    "}\n",
    "\n",
    "torque_cost = {\n",
    "    'type': CostAction,\n",
    "    'wu': 5e-3 / PR2_GAINS,\n",
    "}\n",
    "\n",
    "fk_cost1 = {\n",
    "    'type': CostFK,\n",
    "    # Target end effector is subtracted out of EE_POINTS in ROS so goal\n",
    "    # is 0.\n",
    "    'target_end_effector': np.zeros(3 * EE_POINTS.shape[0]),\n",
    "    'wp': np.ones(SENSOR_DIMS[END_EFFECTOR_POINTS]),\n",
    "    'l1': 0.1,\n",
    "    'l2': 0.0001,\n",
    "    'ramp_option': RAMP_LINEAR,\n",
    "}\n",
    "\n",
    "fk_cost2 = {\n",
    "    'type': CostFK,\n",
    "    'target_end_effector': np.zeros(3 * EE_POINTS.shape[0]),\n",
    "    'wp': np.ones(SENSOR_DIMS[END_EFFECTOR_POINTS]),\n",
    "    'l1': 1.0,\n",
    "    'l2': 0.0,\n",
    "    'wp_final_multiplier': 10.0,  # Weight multiplier on final timestep.\n",
    "    'ramp_option': RAMP_FINAL_ONLY,\n",
    "}\n",
    "\n",
    "algorithm['cost'] = {\n",
    "    'type': CostSum,\n",
    "    'costs': [torque_cost, fk_cost1, fk_cost2],\n",
    "    'weights': [1.0, 1.0, 1.0],\n",
    "}\n",
    "\n",
    "algorithm['dynamics'] = {\n",
    "    'type': DynamicsLRPrior,\n",
    "    'regularization': 1e-6,\n",
    "    'prior': {\n",
    "        'type': DynamicsPriorGMM,\n",
    "        'max_clusters': 20,\n",
    "        'min_samples_per_cluster': 40,\n",
    "        'max_samples': 20,\n",
    "    },\n",
    "}\n",
    "\n",
    "algorithm['traj_opt'] = {\n",
    "    'type': TrajOptLQRPython,\n",
    "}\n",
    "\n",
    "algorithm['policy_opt'] = {}\n",
    "\n",
    "config = {\n",
    "    'iterations': algorithm['iterations'],\n",
    "    'common': common,\n",
    "    'verbose_trials': 0,\n",
    "    'agent': agent,\n",
    "    'gui_on': True,\n",
    "    'algorithm': algorithm,\n",
    "    'num_samples': 5,\n",
    "}\n",
    "\n",
    "common['info'] = generate_experiment_info(config)"
   ]
  },
  {
   "cell_type": "code",
   "execution_count": 38,
   "metadata": {},
   "outputs": [],
   "source": [
    " reset_condition = {\n",
    "        TRIAL_ARM: {\n",
    "            'mode': JOINT_SPACE,\n",
    "            'data': x0[0:7],\n",
    "        },\n",
    "        AUXILIARY_ARM: {\n",
    "            'mode': JOINT_SPACE,\n",
    "            'data': aux_x0,\n",
    "        },\n",
    "    }"
   ]
  },
  {
   "cell_type": "code",
   "execution_count": 9,
   "metadata": {},
   "outputs": [],
   "source": [
    "    ja_x0, ee_pos_x0, ee_rot_x0 = load_pose_from_npz(\n",
    "        common['target_filename'], 'trial_arm', str(i), 'initial'\n",
    "    )\n",
    "    ja_aux, _, _ = load_pose_from_npz(\n",
    "        common['target_filename'], 'auxiliary_arm', str(i), 'initial'\n",
    "    )\n",
    "    _, ee_pos_tgt, ee_rot_tgt = load_pose_from_npz(\n",
    "        common['target_filename'], 'trial_arm', str(i), 'target'\n",
    "    )\n"
   ]
  },
  {
   "cell_type": "code",
   "execution_count": 60,
   "metadata": {},
   "outputs": [],
   "source": [
    "    ja_x0, ee_pos_x0, ee_rot_x0 = load_pose_from_npz(\n",
    "        '/home/mmmil-hw/gps/python/../experiments/pr2_example/target.npz', 'trial_arm', str(1), 'initial'\n",
    "    )"
   ]
  },
  {
   "cell_type": "code",
   "execution_count": 72,
   "metadata": {},
   "outputs": [
    {
     "name": "stdout",
     "output_type": "stream",
     "text": [
      "(1, 3)\n",
      "[[0.8978357  0.21710517 0.29041286]]\n"
     ]
    }
   ],
   "source": [
    "print ee_pos_x0.reshape\n",
    "print ee_pos_x0"
   ]
  },
  {
   "cell_type": "code",
   "execution_count": 83,
   "metadata": {},
   "outputs": [
    {
     "data": {
      "text/plain": [
       "(1, 7)"
      ]
     },
     "execution_count": 83,
     "metadata": {},
     "output_type": "execute_result"
    }
   ],
   "source": [
    "ja_x0.shape"
   ]
  },
  {
   "cell_type": "code",
   "execution_count": 7,
   "metadata": {},
   "outputs": [
    {
     "data": {
      "text/plain": [
       "9"
      ]
     },
     "execution_count": 7,
     "metadata": {},
     "output_type": "execute_result"
    }
   ],
   "source": [
    "3*EE_POINTS.shape[0]"
   ]
  },
  {
   "cell_type": "code",
   "execution_count": 32,
   "metadata": {},
   "outputs": [],
   "source": [
    "x0[14:(14+3*EE_POINTS.shape[0])] = np.ndarray.flatten(\n",
    "        get_ee_points(EE_POINTS, ee_pos_x0, ee_rot_x0).T\n",
    "    )"
   ]
  },
  {
   "cell_type": "code",
   "execution_count": 34,
   "metadata": {},
   "outputs": [
    {
     "data": {
      "text/plain": [
       "array([ 0.88628752, -0.04838788, -0.20061039,  0.81353489, -0.11597948,\n",
       "       -0.21237605,  0.83137455, -0.05082013, -0.27205022])"
      ]
     },
     "execution_count": 34,
     "metadata": {},
     "output_type": "execute_result"
    }
   ],
   "source": [
    "ee_tgt"
   ]
  },
  {
   "cell_type": "code",
   "execution_count": 33,
   "metadata": {},
   "outputs": [
    {
     "data": {
      "text/plain": [
       "array([  0.40493573,  -0.26709164,   0.9860822 ,  -0.58687217,\n",
       "       -30.29001274,  -0.59461712,  19.50285032,   0.        ,\n",
       "         0.        ,   0.        ,   0.        ,   0.        ,\n",
       "         0.        ,   0.        ,   0.93170456,   0.22415112,\n",
       "         0.24216087,   0.92470182,   0.2301047 ,   0.34173755,\n",
       "         0.88712438,   0.16438409,   0.29281173,   0.        ,\n",
       "         0.        ,   0.        ,   0.        ,   0.        ,\n",
       "         0.        ,   0.        ,   0.        ,   0.        ])"
      ]
     },
     "execution_count": 33,
     "metadata": {},
     "output_type": "execute_result"
    }
   ],
   "source": [
    "x0"
   ]
  },
  {
   "cell_type": "code",
   "execution_count": 10,
   "metadata": {},
   "outputs": [
    {
     "data": {
      "text/plain": [
       "array([[  0.40493573,  -0.26709164,   0.9860822 ,  -0.58687217,\n",
       "        -30.29001274,  -0.59461712,  19.50285032]])"
      ]
     },
     "execution_count": 10,
     "metadata": {},
     "output_type": "execute_result"
    }
   ],
   "source": [
    "ja_x0"
   ]
  },
  {
   "cell_type": "code",
   "execution_count": 18,
   "metadata": {},
   "outputs": [
    {
     "data": {
      "text/plain": [
       "array([[[0.93170456, 0.92470182, 0.88712438],\n",
       "        [0.22415112, 0.2301047 , 0.16438409],\n",
       "        [0.24216087, 0.34173755, 0.29281173]]])"
      ]
     },
     "execution_count": 18,
     "metadata": {},
     "output_type": "execute_result"
    }
   ],
   "source": [
    "get_ee_points(EE_POINTS, ee_pos_x0, ee_rot_x0)"
   ]
  },
  {
   "cell_type": "code",
   "execution_count": 23,
   "metadata": {},
   "outputs": [
    {
     "data": {
      "text/plain": [
       "array([[0.8978357 , 0.21710517, 0.29041286]])"
      ]
     },
     "execution_count": 23,
     "metadata": {},
     "output_type": "execute_result"
    }
   ],
   "source": [
    "ee_pos_x0"
   ]
  },
  {
   "cell_type": "code",
   "execution_count": 29,
   "metadata": {},
   "outputs": [
    {
     "data": {
      "text/plain": [
       "array([[[ 0.03386886,  0.02686612, -0.01071132],\n",
       "        [ 0.00704595,  0.01299953, -0.05272109],\n",
       "        [-0.048252  ,  0.05132469,  0.00239886]]])"
      ]
     },
     "execution_count": 29,
     "metadata": {},
     "output_type": "execute_result"
    }
   ],
   "source": [
    "ee_rot_x0.dot(EE_POINTS.T)"
   ]
  },
  {
   "cell_type": "code",
   "execution_count": 28,
   "metadata": {},
   "outputs": [
    {
     "data": {
      "text/plain": [
       "array([[[0.93170456, 0.92470182, 0.88712438],\n",
       "        [0.22415112, 0.2301047 , 0.16438409],\n",
       "        [0.24216087, 0.34173755, 0.29281173]]])"
      ]
     },
     "execution_count": 28,
     "metadata": {},
     "output_type": "execute_result"
    }
   ],
   "source": [
    "ee_rot_x0.dot(EE_POINTS.T)+ee_pos_x0.T"
   ]
  },
  {
   "cell_type": "code",
   "execution_count": 1,
   "metadata": {},
   "outputs": [
    {
     "ename": "NameError",
     "evalue": "name 'load_pose_from_npz' is not defined",
     "output_type": "error",
     "traceback": [
      "\u001b[0;31m---------------------------------------------------------------------------\u001b[0m",
      "\u001b[0;31mNameError\u001b[0m                                 Traceback (most recent call last)",
      "\u001b[0;32m<ipython-input-1-2bc301271327>\u001b[0m in \u001b[0;36m<module>\u001b[0;34m()\u001b[0m\n\u001b[0;32m----> 1\u001b[0;31m ja_x0, ee_pos_x0, ee_rot_x0 = load_pose_from_npz(\n\u001b[0m\u001b[1;32m      2\u001b[0m     \u001b[0mcommon\u001b[0m\u001b[0;34m[\u001b[0m\u001b[0;34m'target_filename'\u001b[0m\u001b[0;34m]\u001b[0m\u001b[0;34m,\u001b[0m \u001b[0;34m'trial_arm'\u001b[0m\u001b[0;34m,\u001b[0m \u001b[0mstr\u001b[0m\u001b[0;34m(\u001b[0m\u001b[0mi\u001b[0m\u001b[0;34m)\u001b[0m\u001b[0;34m,\u001b[0m \u001b[0;34m'initial'\u001b[0m\u001b[0;34m\u001b[0m\u001b[0m\n\u001b[1;32m      3\u001b[0m )\n\u001b[1;32m      4\u001b[0m ja_aux, _, _ = load_pose_from_npz(\n\u001b[1;32m      5\u001b[0m     \u001b[0mcommon\u001b[0m\u001b[0;34m[\u001b[0m\u001b[0;34m'target_filename'\u001b[0m\u001b[0;34m]\u001b[0m\u001b[0;34m,\u001b[0m \u001b[0;34m'auxiliary_arm'\u001b[0m\u001b[0;34m,\u001b[0m \u001b[0mstr\u001b[0m\u001b[0;34m(\u001b[0m\u001b[0mi\u001b[0m\u001b[0;34m)\u001b[0m\u001b[0;34m,\u001b[0m \u001b[0;34m'initial'\u001b[0m\u001b[0;34m\u001b[0m\u001b[0m\n",
      "\u001b[0;31mNameError\u001b[0m: name 'load_pose_from_npz' is not defined"
     ]
    }
   ],
   "source": [
    "    ja_x0, ee_pos_x0, ee_rot_x0 = load_pose_from_npz(\n",
    "        common['target_filename'], 'trial_arm', str(i), 'initial'\n",
    "    )\n",
    "    ja_aux, _, _ = load_pose_from_npz(\n",
    "        common['target_filename'], 'auxiliary_arm', str(i), 'initial'\n",
    "    )\n",
    "    _, ee_pos_tgt, ee_rot_tgt = load_pose_from_npz(\n",
    "        common['target_filename'], 'trial_arm', str(i), 'target'\n",
    "    )\n"
   ]
  },
  {
   "cell_type": "code",
   "execution_count": 35,
   "metadata": {},
   "outputs": [
    {
     "data": {
      "text/plain": [
       "[{0: {'data': array([  0.40493573,  -0.26709164,   0.9860822 ,  -0.58687217,\n",
       "          -30.29001274,  -0.59461712,  19.50285032]), 'mode': 1},\n",
       "  1: {'data': array([0., 0., 0., 0., 0., 0., 0.]), 'mode': 1}}]"
      ]
     },
     "execution_count": 35,
     "metadata": {},
     "output_type": "execute_result"
    }
   ],
   "source": [
    "reset_conditions"
   ]
  },
  {
   "cell_type": "code",
   "execution_count": 40,
   "metadata": {},
   "outputs": [
    {
     "data": {
      "text/plain": [
       "[array([  0.40493573,  -0.26709164,   0.9860822 ,  -0.58687217,\n",
       "        -30.29001274,  -0.59461712,  19.50285032,   0.        ,\n",
       "          0.        ,   0.        ,   0.        ,   0.        ,\n",
       "          0.        ,   0.        ,   0.93170456,   0.22415112,\n",
       "          0.24216087,   0.92470182,   0.2301047 ,   0.34173755,\n",
       "          0.88712438,   0.16438409,   0.29281173,   0.        ,\n",
       "          0.        ,   0.        ,   0.        ,   0.        ,\n",
       "          0.        ,   0.        ,   0.        ,   0.        ])]"
      ]
     },
     "execution_count": 40,
     "metadata": {},
     "output_type": "execute_result"
    }
   ],
   "source": [
    "x0s"
   ]
  },
  {
   "cell_type": "code",
   "execution_count": 56,
   "metadata": {},
   "outputs": [
    {
     "data": {
      "text/plain": [
       "{'agent': {'T': 100,\n",
       "  'conditions': 1,\n",
       "  'dt': 0.05,\n",
       "  'ee_points_tgt': [array([ 0.88628752, -0.04838788, -0.20061039,  0.81353489, -0.11597948,\n",
       "          -0.21237605,  0.83137455, -0.05082013, -0.27205022])],\n",
       "  'end_effector_points': array([[ 0.02 , -0.025,  0.05 ],\n",
       "         [ 0.02 , -0.025, -0.05 ],\n",
       "         [ 0.02 ,  0.05 ,  0.   ]]),\n",
       "  'obs_include': [],\n",
       "  'reset_conditions': [{0: {'data': array([  0.40493573,  -0.26709164,   0.9860822 ,  -0.58687217,\n",
       "            -30.29001274,  -0.59461712,  19.50285032]), 'mode': 1},\n",
       "    1: {'data': array([0., 0., 0., 0., 0., 0., 0.]), 'mode': 1}}],\n",
       "  'sensor_dims': {0: 7, 1: 7, 2: 7, 3: 9, 4: 9},\n",
       "  'state_include': [1, 2, 3, 4],\n",
       "  'type': gps.agent.ros.agent_ros.AgentROS,\n",
       "  'x0': [array([  0.40493573,  -0.26709164,   0.9860822 ,  -0.58687217,\n",
       "          -30.29001274,  -0.59461712,  19.50285032,   0.        ,\n",
       "            0.        ,   0.        ,   0.        ,   0.        ,\n",
       "            0.        ,   0.        ,   0.93170456,   0.22415112,\n",
       "            0.24216087,   0.92470182,   0.2301047 ,   0.34173755,\n",
       "            0.88712438,   0.16438409,   0.29281173,   0.        ,\n",
       "            0.        ,   0.        ,   0.        ,   0.        ,\n",
       "            0.        ,   0.        ,   0.        ,   0.        ])]},\n",
       " 'algorithm': {'conditions': 1,\n",
       "  'cost': {'costs': [{'type': gps.algorithm.cost.cost_action.CostAction,\n",
       "     'wu': array([0.00161812, 0.00462963, 0.01272265, 0.0074184 , 0.04504505,\n",
       "            0.03289474, 0.05102041])},\n",
       "    {'l1': 0.1,\n",
       "     'l2': 0.0001,\n",
       "     'ramp_option': 2,\n",
       "     'target_end_effector': array([0., 0., 0., 0., 0., 0., 0., 0., 0.]),\n",
       "     'type': gps.algorithm.cost.cost_fk.CostFK,\n",
       "     'wp': array([1., 1., 1., 1., 1., 1., 1., 1., 1.])},\n",
       "    {'l1': 1.0,\n",
       "     'l2': 0.0,\n",
       "     'ramp_option': 4,\n",
       "     'target_end_effector': array([0., 0., 0., 0., 0., 0., 0., 0., 0.]),\n",
       "     'type': gps.algorithm.cost.cost_fk.CostFK,\n",
       "     'wp': array([1., 1., 1., 1., 1., 1., 1., 1., 1.]),\n",
       "     'wp_final_multiplier': 10.0}],\n",
       "   'type': gps.algorithm.cost.cost_sum.CostSum,\n",
       "   'weights': [1.0, 1.0, 1.0]},\n",
       "  'dynamics': {'prior': {'max_clusters': 20,\n",
       "    'max_samples': 20,\n",
       "    'min_samples_per_cluster': 40,\n",
       "    'type': gps.algorithm.dynamics.dynamics_prior_gmm.DynamicsPriorGMM},\n",
       "   'regularization': 1e-06,\n",
       "   'type': gps.algorithm.dynamics.dynamics_lr_prior.DynamicsLRPrior},\n",
       "  'init_traj_distr': {'T': 100,\n",
       "   'dt': 0.05,\n",
       "   'final_weight': 50,\n",
       "   'init_acc': array([0., 0., 0., 0., 0., 0., 0.]),\n",
       "   'init_gains': array([ 0.3236246 ,  0.92592593,  2.54452926,  1.48367953,  9.00900901,\n",
       "           6.57894737, 10.20408163]),\n",
       "   'init_var': 1.0,\n",
       "   'stiffness': 0.5,\n",
       "   'stiffness_vel': 0.25,\n",
       "   'type': <function gps.algorithm.policy.lin_gauss_init.init_lqr>},\n",
       "  'iterations': 10,\n",
       "  'policy_opt': {},\n",
       "  'traj_opt': {'type': gps.algorithm.traj_opt.traj_opt_lqr_python.TrajOptLQRPython},\n",
       "  'type': gps.algorithm.algorithm_traj_opt.AlgorithmTrajOpt},\n",
       " 'common': {'conditions': 1,\n",
       "  'data_files_dir': '/home/mmmil-hw/gps/python/../experiments/pr2_example/data_files/',\n",
       "  'experiment_dir': '/home/mmmil-hw/gps/python/../experiments/pr2_example/',\n",
       "  'experiment_name': 'my_experiment_04-23-20_16-59',\n",
       "  'info': 'exp_name:   my_experiment_04-23-20_16-59\\nalg_type:   AlgorithmTrajOpt\\nalg_dyn:    DynamicsLRPrior\\nalg_cost:   CostSum(CostAction, CostFK, CostFK)\\niterations: 10\\nconditions: 1\\nsamples:    5\\n',\n",
       "  'log_filename': '/home/mmmil-hw/gps/python/../experiments/pr2_example/log.txt',\n",
       "  'target_filename': '/home/mmmil-hw/gps/python/../experiments/pr2_example/target.npz'},\n",
       " 'gui_on': True,\n",
       " 'iterations': 10,\n",
       " 'num_samples': 5,\n",
       " 'verbose_trials': 0}"
      ]
     },
     "execution_count": 56,
     "metadata": {},
     "output_type": "execute_result"
    }
   ],
   "source": [
    "config"
   ]
  },
  {
   "cell_type": "code",
   "execution_count": null,
   "metadata": {},
   "outputs": [],
   "source": [
    "{'agent':\n",
    " {'T': 100,\n",
    "  'conditions': 1,\n",
    "  'dt': 0.05,\n",
    "  'ee_points_tgt': [array([ 0.88628752, -0.04838788, -0.20061039,  0.81353489, -0.11597948,\n",
    "          -0.21237605,  0.83137455, -0.05082013, -0.27205022])],\n",
    "  'end_effector_points': array([[ 0.02 , -0.025,  0.05 ],\n",
    "         [ 0.02 , -0.025, -0.05 ],\n",
    "         [ 0.02 ,  0.05 ,  0.   ]]),\n",
    "  'obs_include': [],\n",
    "  'reset_conditions': [{0: {'data': array([  0.40493573,  -0.26709164,   0.9860822 ,  -0.58687217,\n",
    "            -30.29001274,  -0.59461712,  19.50285032]), 'mode': 1},   1: {'data': array([0., 0., 0., 0., 0., 0., 0.]), 'mode': 1}}],\n",
    "  'sensor_dims': {0: 7, 1: 7, 2: 7, 3: 9, 4: 9},\n",
    "  'state_include': [1, 2, 3, 4],\n",
    "  'type': gps.agent.ros.agent_ros.AgentROS,\n",
    "  'x0': [array([  0.40493573,  -0.26709164,   0.9860822 ,  -0.58687217,\n",
    "          -30.29001274,  -0.59461712,  19.50285032,   0.        ,\n",
    "            0.        ,   0.        ,   0.        ,   0.        ,\n",
    "            0.        ,   0.        ,   0.93170456,   0.22415112,\n",
    "            0.24216087,   0.92470182,   0.2301047 ,   0.34173755,\n",
    "            0.88712438,   0.16438409,   0.29281173,   0.        ,\n",
    "            0.        ,   0.        ,   0.        ,   0.        ,\n",
    "            0.        ,   0.        ,   0.        ,   0.        ])]},\n",
    " 'algorithm': {'conditions': 1, 'cost': {'costs': [{'type': gps.algorithm.cost.cost_action.CostAction,\n",
    "     'wu': array([0.00161812, 0.00462963, 0.01272265, 0.0074184 , 0.04504505,\n",
    "            0.03289474, 0.05102041])},\n",
    "    {'l1': 0.1,\n",
    "     'l2': 0.0001,\n",
    "     'ramp_option': 2,\n",
    "     'target_end_effector': array([0., 0., 0., 0., 0., 0., 0., 0., 0.]),\n",
    "     'type': gps.algorithm.cost.cost_fk.CostFK,\n",
    "     'wp': array([1., 1., 1., 1., 1., 1., 1., 1., 1.])},\n",
    "    {'l1': 1.0,\n",
    "     'l2': 0.0,\n",
    "     'ramp_option': 4,\n",
    "     'target_end_effector': array([0., 0., 0., 0., 0., 0., 0., 0., 0.]),\n",
    "     'type': gps.algorithm.cost.cost_fk.CostFK,\n",
    "     'wp': array([1., 1., 1., 1., 1., 1., 1., 1., 1.]),\n",
    "     'wp_final_multiplier': 10.0}],\n",
    "   'type': gps.algorithm.cost.cost_sum.CostSum,\n",
    "   'weights': [1.0, 1.0, 1.0]},\n",
    "  'dynamics': {'prior': {'max_clusters': 20,\n",
    "    'max_samples': 20,\n",
    "    'min_samples_per_cluster': 40,\n",
    "    'type': gps.algorithm.dynamics.dynamics_prior_gmm.DynamicsPriorGMM},\n",
    "   'regularization': 1e-06,\n",
    "   'type': gps.algorithm.dynamics.dynamics_lr_prior.DynamicsLRPrior},\n",
    "  'init_traj_distr': {'T': 100,\n",
    "   'dt': 0.05,\n",
    "   'final_weight': 50,\n",
    "   'init_acc': array([0., 0., 0., 0., 0., 0., 0.]),\n",
    "   'init_gains': array([ 0.3236246 ,  0.92592593,  2.54452926,  1.48367953,  9.00900901,\n",
    "           6.57894737, 10.20408163]),\n",
    "   'init_var': 1.0,\n",
    "   'stiffness': 0.5,\n",
    "   'stiffness_vel': 0.25,\n",
    "   'type': <function gps.algorithm.policy.lin_gauss_init.init_lqr>},\n",
    "  'iterations': 10,\n",
    "  'policy_opt': {},\n",
    "  'traj_opt': {'type': gps.algorithm.traj_opt.traj_opt_lqr_python.TrajOptLQRPython},\n",
    "  'type': gps.algorithm.algorithm_traj_opt.AlgorithmTrajOpt},\n",
    " 'common': {'conditions': 1,\n",
    "  'data_files_dir': '/home/mmmil-hw/gps/python/../experiments/pr2_example/data_files/',\n",
    "  'experiment_dir': '/home/mmmil-hw/gps/python/../experiments/pr2_example/',\n",
    "  'experiment_name': 'my_experiment_04-23-20_16-59',\n",
    "  'info': 'exp_name:   my_experiment_04-23-20_16-59\\nalg_type:   AlgorithmTrajOpt\\nalg_dyn:    DynamicsLRPrior\\nalg_cost:   CostSum(CostAction, CostFK, CostFK)\\niterations: 10\\nconditions: 1\\nsamples:    5\\n',\n",
    "  'log_filename': '/home/mmmil-hw/gps/python/../experiments/pr2_example/log.txt',\n",
    "  'target_filename': '/home/mmmil-hw/gps/python/../experiments/pr2_example/target.npz'},\n",
    " 'gui_on': True,\n",
    " 'iterations': 10,\n",
    " 'num_samples': 5,\n",
    " 'verbose_trials': 0}"
   ]
  }
 ],
 "metadata": {
  "kernelspec": {
   "display_name": "Python 2",
   "language": "python",
   "name": "python2"
  },
  "language_info": {
   "codemirror_mode": {
    "name": "ipython",
    "version": 2
   },
   "file_extension": ".py",
   "mimetype": "text/x-python",
   "name": "python",
   "nbconvert_exporter": "python",
   "pygments_lexer": "ipython2",
   "version": "2.7.12"
  }
 },
 "nbformat": 4,
 "nbformat_minor": 2
}
